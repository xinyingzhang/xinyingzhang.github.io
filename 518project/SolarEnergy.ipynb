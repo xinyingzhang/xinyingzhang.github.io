{
 "cells": [
  {
   "cell_type": "code",
   "execution_count": null,
   "id": "70b867ab",
   "metadata": {},
   "outputs": [],
   "source": [
    "https://www.sciencedirect.com/science/article/pii/S136403211830087X?via%3Dihub"
   ]
  },
  {
   "cell_type": "code",
   "execution_count": null,
   "id": "807b3920",
   "metadata": {},
   "outputs": [],
   "source": [
    "with open(\"ENGR_518_Solar_energy_datasets.csv\") as csvFile:\n",
    "  rows = csv.reader(csvFile)\n",
    "  with open((\"myENGR_518_Solar_energy_datasets.csv\"), 'w') as f:\n",
    "    writer = csv.writer(f)\n",
    "    for row in rows:\n",
    "      row.append('123456')\n",
    "      writer.writerow(row)"
   ]
  },
  {
   "cell_type": "code",
   "execution_count": 49,
   "id": "9af9d728",
   "metadata": {},
   "outputs": [
    {
     "name": "stdout",
     "output_type": "stream",
     "text": [
      "0      2\n",
      "1      0\n",
      "2      1\n",
      "3      2\n",
      "4      1\n",
      "      ..\n",
      "920    2\n",
      "921    0\n",
      "922    2\n",
      "923    0\n",
      "924    0\n",
      "Name: class, Length: 925, dtype: int64\n",
      "(10000, 1) (100, 100)\n",
      "[[  7.6569587  -11.58554986 -12.80475341]\n",
      " [  7.95998822 -11.29458938 -13.10777476]\n",
      " [  8.26301773 -11.0036289  -13.41079611]\n",
      " ...\n",
      " [ 36.91380899  33.40269263 -41.73652418]\n",
      " [ 37.21683851  33.69365311 -42.03954553]\n",
      " [ 37.51986802  33.98461359 -42.34256688]]\n",
      "[[0 0 0 ... 0 0 0]\n",
      " [0 0 0 ... 0 0 0]\n",
      " [0 0 0 ... 0 0 0]\n",
      " ...\n",
      " [0 0 0 ... 0 0 0]\n",
      " [0 0 0 ... 0 0 0]\n",
      " [0 0 0 ... 0 0 0]]\n"
     ]
    },
    {
     "data": {
      "text/plain": [
       "<matplotlib.contour.QuadContourSet at 0x7fb919d35760>"
      ]
     },
     "execution_count": 49,
     "metadata": {},
     "output_type": "execute_result"
    },
    {
     "data": {
      "image/png": "[encoded data removed]",
      "text/plain": [
       "<Figure size 432x288 with 1 Axes>"
      ]
     },
     "metadata": {
      "needs_background": "light"
     },
     "output_type": "display_data"
    }
   ],
   "source": [
    "import csv\n",
    "import numpy as np\n",
    "import pandas as pd\n",
    "import matplotlib.pyplot as plt\n",
    "from sklearn import datasets\n",
    "from sklearn import linear_model\n",
    "import sklearn\n",
    "\n",
    "\n",
    "df = pd.read_csv(\"ENGR_518_Solar_energy_datasets.csv\")\n",
    "\n",
    "\n",
    "x=df.iloc[:, 3:5]\n",
    "\n",
    "df.insert(df.shape[1], 'class', 0)\n",
    "# print(df)\n",
    "# df.iat[0, 8]\n",
    "for i in range(0,925):\n",
    "    if df.iat[i, 5]<=320:\n",
    "        df.iat[i, 8]=0\n",
    "    elif 320<df.iat[i, 5]<=340:\n",
    "        df.iat[i, 8]=1\n",
    "    else:\n",
    "        df.iat[i, 8]=2\n",
    "# print(df.iloc[:,5:])\n",
    "y=df.iloc[:,8]\n",
    "print(y)\n",
    "df.to_csv('myENGR_518_Solar_energy_datasets.csv')\n",
    "X_train, X_test, y_train, y_test = sklearn.model_selection.train_test_split(x, y, train_size=600, random_state=None)\n",
    "# print(X_test,y_test)\n",
    "x1=X_train.iloc[:, 0]#Latitude\n",
    "x2=X_train.iloc[:, 1]#Longitude\n",
    "x3=X_test.iloc[:,0]\n",
    "x4=X_test.iloc[:,1]\n",
    "\n",
    "# print(x1)\n",
    "colors=('r','b', 'g')\n",
    "plt.scatter(x1[y==0],x2[y==0],c=colors[0])\n",
    "plt.scatter(x1[y==1],x2[y==1],c=colors[1])\n",
    "plt.scatter(x1[y==2],x2[y==2],c=colors[2]) \n",
    "plt.grid(1)\n",
    "# plt.grid(1)\n",
    "# plt.legend([iris.target_names[0],iris.target_names[1]])\n",
    "plt.xlabel('Latitude')\n",
    "plt.ylabel('Longitude')\n",
    "\n",
    "\n",
    "\n",
    "# train model1\n",
    "y1=y_train.copy()\n",
    "y1[y!=0]=-1\n",
    "# print(y1)\n",
    "y1[y==0]=1\n",
    "# print(y1)\n",
    "log_regress1 = linear_model.LogisticRegression()\n",
    "log_regress1.fit(X_train,y1)\n",
    "x1p=np.linspace(1,5,20)\n",
    "x2p=-(log_regress1.intercept_+log_regress1.coef_[0][0]*x1p)/log_regress1.coef_[0][1]\n",
    "# train model2\n",
    "y2=y_train.copy()\n",
    "y2[y!=1]=-1\n",
    "y2[y==1]=1\n",
    "# print(y2) \n",
    "log_regress2 = linear_model.LogisticRegression()\n",
    "log_regress2.fit(X_train,y2)\n",
    "# train model3\n",
    "\n",
    "y3=y_train.copy()\n",
    "y3[y!=2]=-1\n",
    "y3[y==2]=1\n",
    "log_regress3 = linear_model.LogisticRegression()\n",
    "log_regress3.fit(X_train,y3)\n",
    "xp1, xp2 = np.meshgrid(np.linspace(50,80,100),np.linspace(-140,-80,100))\n",
    "# vectorize mesh grid\n",
    "xp1_v = xp1.reshape(-1,1)\n",
    "print(xp1_v.shape,xp1.shape)\n",
    "xp2_v = xp2.reshape(-1,1)\n",
    "Xp_data = np.append(xp1_v,xp2_v,axis=1)\n",
    "# calculate model outputs\n",
    "c1=(log_regress1.intercept_+np.dot(Xp_data,log_regress1.coef_.T))/np.linalg.norm(log_regress1.coef_)\n",
    "# print(c1)\n",
    "c2=(log_regress2.intercept_+np.dot(Xp_data,log_regress2.coef_.T))/np.linalg.norm(log_regress2.coef_)\n",
    "# print(c2)\n",
    "c3=(log_regress3.intercept_+np.dot(Xp_data,log_regress3.coef_.T))/np.linalg.norm(log_regress3.coef_)\n",
    "# append and reshape to plot\n",
    "c=np.hstack((c1,c2,c3))\n",
    "print(c)\n",
    "z=np.argmax(c,axis=1)\n",
    "# print(z)\n",
    "z=z.reshape(xp1.shape)\n",
    "print(z)\n",
    "plt.contourf(xp1,xp2,z,alpha=.2)\n",
    "\n",
    "\n",
    "\n",
    "\n",
    "\n"
   ]
  },
  {
   "cell_type": "code",
   "execution_count": 45,
   "id": "25a67631",
   "metadata": {
    "scrolled": false
   },
   "outputs": [
    {
     "ename": "NameError",
     "evalue": "name 'data' is not defined",
     "output_type": "error",
     "traceback": [
      "\u001b[0;31m---------------------------------------------------------------------------\u001b[0m",
      "\u001b[0;31mNameError\u001b[0m                                 Traceback (most recent call last)",
      "Input \u001b[0;32mIn [45]\u001b[0m, in \u001b[0;36m<cell line: 18>\u001b[0;34m()\u001b[0m\n\u001b[1;32m     13\u001b[0m x\u001b[38;5;241m=\u001b[39mdf\u001b[38;5;241m.\u001b[39miloc[:, \u001b[38;5;241m3\u001b[39m:\u001b[38;5;241m5\u001b[39m]\n\u001b[1;32m     14\u001b[0m \u001b[38;5;66;03m# df.replace(\"I\",0,inplace=True)\u001b[39;00m\n\u001b[1;32m     15\u001b[0m \u001b[38;5;66;03m# df.replace(\"II\",1,inplace=True)\u001b[39;00m\n\u001b[1;32m     16\u001b[0m \u001b[38;5;66;03m# df.replace(\"III\",2,inplace=True)\u001b[39;00m\n\u001b[1;32m     17\u001b[0m \u001b[38;5;66;03m# y=df.iloc[:, 7]\u001b[39;00m\n\u001b[0;32m---> 18\u001b[0m \u001b[43mdata\u001b[49m\u001b[38;5;241m.\u001b[39minsert(data\u001b[38;5;241m.\u001b[39mshape[\u001b[38;5;241m1\u001b[39m], \u001b[38;5;124m'\u001b[39m\u001b[38;5;124md\u001b[39m\u001b[38;5;124m'\u001b[39m, \u001b[38;5;241m0\u001b[39m)\n\u001b[1;32m     19\u001b[0m \u001b[38;5;28mprint\u001b[39m(df\u001b[38;5;241m.\u001b[39mshape)\n\u001b[1;32m     23\u001b[0m X_train, X_test, y_train, y_test \u001b[38;5;241m=\u001b[39m sklearn\u001b[38;5;241m.\u001b[39mmodel_selection\u001b[38;5;241m.\u001b[39mtrain_test_split(x, y, train_size\u001b[38;5;241m=\u001b[39m\u001b[38;5;241m600\u001b[39m, random_state\u001b[38;5;241m=\u001b[39m\u001b[38;5;28;01mNone\u001b[39;00m)\n",
      "\u001b[0;31mNameError\u001b[0m: name 'data' is not defined"
     ]
    }
   ],
   "source": [
    "import csv\n",
    "import numpy as np\n",
    "import pandas as pd\n",
    "import matplotlib.pyplot as plt\n",
    "from sklearn import datasets\n",
    "from sklearn import linear_model\n",
    "import sklearn\n",
    "\n",
    "# csv_reader = csv.reader(open(\"TMY3_StationsMeta.csv\"))\n",
    "df = pd.read_csv(\"ENGR_518_Solar_energy_datasets.csv\")\n",
    "# x1=df.iloc[:, 3]#Latitude\n",
    "# x2=df.iloc[:, 4]#Longitude\n",
    "x=df.iloc[:, 3:5]\n",
    "# df.replace(\"I\",0,inplace=True)\n",
    "# df.replace(\"II\",1,inplace=True)\n",
    "# df.replace(\"III\",2,inplace=True)\n",
    "# y=df.iloc[:, 7]\n",
    "data.insert(data.shape[1], 'd', 0)\n",
    "print(df.shape)\n",
    "\n",
    "\n",
    "\n",
    "X_train, X_test, y_train, y_test = sklearn.model_selection.train_test_split(x, y, train_size=600, random_state=None)\n",
    "# print(X_test,y_test)\n",
    "x1=X_train.iloc[:, 0]#Latitude\n",
    "x2=X_train.iloc[:, 1]#Longitude\n",
    "x3=X_test.iloc[:,0]\n",
    "x4=X_test.iloc[:,1]\n",
    "\n",
    "# print(x1)\n",
    "colors=('r','b', 'g')\n",
    "plt.scatter(x1[y==0],x2[y==0],c=colors[0])\n",
    "plt.scatter(x1[y==1],x2[y==1],c=colors[1])\n",
    "plt.scatter(x1[y==2],x2[y==2],c=colors[2]) \n",
    "plt.grid(1)\n",
    "# plt.grid(1)\n",
    "# plt.legend([iris.target_names[0],iris.target_names[1]])\n",
    "plt.xlabel('Latitude')\n",
    "plt.ylabel('Longitude')\n",
    "plt.xlim(30, 50)\n",
    "plt.ylim(-140, -80)\n",
    "\n",
    "\n",
    "\n",
    "# train model1\n",
    "y1=y_train.copy()\n",
    "y1[y!=0]=-1\n",
    "# print(y1)\n",
    "y1[y==0]=1\n",
    "# print(y1)\n",
    "log_regress1 = linear_model.LogisticRegression()\n",
    "log_regress1.fit(X_train,y1)\n",
    "# train model2\n",
    "y2=y_train.copy()\n",
    "y2[y!=1]=-1\n",
    "y2[y==1]=1\n",
    "# print(y2) \n",
    "log_regress2 = linear_model.LogisticRegression()\n",
    "log_regress2.fit(X_train,y2)\n",
    "# train model3\n",
    "y3=y_train.copy()\n",
    "y3[y!=2]=-1\n",
    "y3[y==2]=1\n",
    "log_regress3 = linear_model.LogisticRegression()\n",
    "log_regress3.fit(X_train,y3)\n",
    "xp1, xp2 = np.meshgrid(np.linspace(50,80,100),np.linspace(-140,-80,100))\n",
    "# vectorize mesh grid\n",
    "xp1_v = xp1.reshape(-1,1)\n",
    "print(xp1_v.shape,xp1.shape)\n",
    "xp2_v = xp2.reshape(-1,1)\n",
    "Xp_data = np.append(xp1_v,xp2_v,axis=1)\n",
    "# calculate model outputs\n",
    "c1=(log_regress1.intercept_+np.dot(Xp_data,log_regress1.coef_.T))/np.linalg.norm(log_regress1.coef_)\n",
    "# print(c1)\n",
    "c2=(log_regress2.intercept_+np.dot(Xp_data,log_regress2.coef_.T))/np.linalg.norm(log_regress2.coef_)\n",
    "# print(c2)\n",
    "c3=(log_regress3.intercept_+np.dot(Xp_data,log_regress3.coef_.T))/np.linalg.norm(log_regress3.coef_)\n",
    "# append and reshape to plot\n",
    "c=np.hstack((c1,c2,c3))\n",
    "print(c)\n",
    "z=np.argmax(c,axis=1)\n",
    "# print(z)\n",
    "z=z.reshape(xp1.shape)\n",
    "print(z)\n",
    "plt.contourf(xp1,xp2,z,alpha=.2)\n"
   ]
  },
  {
   "cell_type": "code",
   "execution_count": 8,
   "id": "e3de61cd",
   "metadata": {},
   "outputs": [
    {
     "data": {
      "text/plain": [
       "(-140.0, -80.0)"
      ]
     },
     "execution_count": 8,
     "metadata": {},
     "output_type": "execute_result"
    },
    {
     "data": {
      "image/png": "[encoded data removed]",
      "text/plain": [
       "<Figure size 432x288 with 1 Axes>"
      ]
     },
     "metadata": {
      "needs_background": "light"
     },
     "output_type": "display_data"
    }
   ],
   "source": [
    "colors=('r','b', 'g')\n",
    "plt.scatter(x3[y==0],x4[y==0],c=colors[0])\n",
    "plt.scatter(x3[y==1],x4[y==1],c=colors[1])\n",
    "plt.scatter(x3[y==2],x4[y==2],c=colors[2]) \n",
    "plt.grid(1)\n",
    "# plt.grid(1)\n",
    "# plt.legend([iris.target_names[0],iris.target_names[1]])\n",
    "plt.xlabel('Latitude')\n",
    "plt.ylabel('Longitude')\n",
    "plt.xlim(30, 50)\n",
    "plt.ylim(-140, -80)\n"
   ]
  },
  {
   "cell_type": "code",
   "execution_count": 9,
   "id": "85e3f3a4",
   "metadata": {},
   "outputs": [
    {
     "name": "stdout",
     "output_type": "stream",
     "text": [
      "(10000, 1) (100, 100)\n",
      "(10000,)\n"
     ]
    },
    {
     "data": {
      "text/plain": [
       "<matplotlib.contour.QuadContourSet at 0x7fa8fa530eb0>"
      ]
     },
     "execution_count": 9,
     "metadata": {},
     "output_type": "execute_result"
    },
    {
     "data": {
      "image/png": "[encoded data removed]",
      "text/plain": [
       "<Figure size 432x288 with 1 Axes>"
      ]
     },
     "metadata": {
      "needs_background": "light"
     },
     "output_type": "display_data"
    }
   ],
   "source": [
    "# train model1\n",
    "y1=y_train.copy()\n",
    "y1[y!=0]=-1\n",
    "# print(y1)\n",
    "y1[y==0]=1\n",
    "# print(y1)\n",
    "log_regress1 = linear_model.LogisticRegression()\n",
    "log_regress1.fit(X_train,y1)\n",
    "# train model2\n",
    "y2=y_train.copy()\n",
    "y2[y!=1]=-1\n",
    "y2[y==1]=1\n",
    "# print(y2) \n",
    "log_regress2 = linear_model.LogisticRegression()\n",
    "log_regress2.fit(X_train,y2)\n",
    "# train model3\n",
    "y3=y_train.copy()\n",
    "y3[y!=2]=-1\n",
    "y3[y==2]=1\n",
    "log_regress3 = linear_model.LogisticRegression()\n",
    "log_regress3.fit(X_train,y3)\n",
    "# xp1, xp2 = np.meshgrid(np.linspace(50,80,100),np.linspace(-140,-80,100))\n",
    "# vectorize mesh grid\n",
    "xp1_v = xp1.reshape(-1,1)\n",
    "print(xp1_v.shape,xp1.shape)\n",
    "xp2_v = xp2.reshape(-1,1)\n",
    "Xp_data = np.append(xp1_v,xp2_v,axis=1)\n",
    "# calculate model outputs\n",
    "c1=(log_regress1.intercept_+np.dot(Xp_data,log_regress1.coef_.T))/np.linalg.norm(log_regress1.coef_)\n",
    "# print(c1)\n",
    "c2=(log_regress2.intercept_+np.dot(Xp_data,log_regress2.coef_.T))/np.linalg.norm(log_regress2.coef_)\n",
    "# print(c2)\n",
    "c3=(log_regress3.intercept_+np.dot(Xp_data,log_regress3.coef_.T))/np.linalg.norm(log_regress3.coef_)\n",
    "# append and reshape to plot\n",
    "c=np.hstack((c1,c2,c3))\n",
    "# print(c)\n",
    "z=np.argmax(c,axis=1)\n",
    "print(z.shape)\n",
    "z=z.reshape(xp1.shape)\n",
    "plt.contourf(xp1,xp2,z,alpha=.3)\n",
    "\n",
    "\n",
    "\n",
    "\n"
   ]
  },
  {
   "cell_type": "code",
   "execution_count": 43,
   "id": "a406fca6",
   "metadata": {
    "scrolled": false
   },
   "outputs": [
    {
     "name": "stdout",
     "output_type": "stream",
     "text": [
      "[[ 0.96790908  0.54290425 -3.02113607]\n",
      " [ 0.9309986   0.54559305 -2.97192412]\n",
      " [ 0.89408812  0.54828184 -2.92271217]\n",
      " ...\n",
      " [-1.24728305 -1.19344628  1.30274974]\n",
      " [-1.28419353 -1.19075748  1.35196169]\n",
      " [-1.32110401 -1.18806869  1.40117363]]\n"
     ]
    },
    {
     "data": {
      "text/plain": [
       "<matplotlib.contour.QuadContourSet at 0x7fb8fce866d0>"
      ]
     },
     "execution_count": 43,
     "metadata": {},
     "output_type": "execute_result"
    },
    {
     "data": {
      "image/png": "[encoded data removed]",
      "text/plain": [
       "<Figure size 432x288 with 1 Axes>"
      ]
     },
     "metadata": {
      "needs_background": "light"
     },
     "output_type": "display_data"
    }
   ],
   "source": [
    "import matplotlib.pyplot as plt\n",
    "import numpy as np\n",
    "from sklearn import datasets\n",
    "from sklearn import linear_model\n",
    "iris = datasets.load_iris()\n",
    "# get labels and features, use sepal this time\n",
    "y = iris.target\n",
    "x1 = iris.data[:,0]\n",
    "x2 = iris.data[:,1]\n",
    "x=np.array([x1,x2])\n",
    "x=x.T\n",
    "# scatter plot\n",
    "plt.scatter(x1[y==0],x2[y==0],c='r')\n",
    "plt.scatter(x1[y==1],x2[y==1],c='b')\n",
    "plt.scatter(x1[y==2],x2[y==2],c='orange')\n",
    "plt.grid(1)\n",
    "plt.legend(iris.target_names)\n",
    "plt.xlabel(iris.feature_names[0])\n",
    "plt.ylabel(iris.feature_names[1])\n",
    "plt.xlim(3, 8)\n",
    "plt.ylim(2, 4)\n",
    "# train model1\n",
    "y1=y.copy()\n",
    "y1[y==0]=1\n",
    "y1[y!=0]=-1\n",
    "log_regress1 = linear_model.LogisticRegression()\n",
    "log_regress1.fit(x,y1)\n",
    "# train model2\n",
    "y2=y.copy()\n",
    "y2[y==1]=1\n",
    "y2[y!=1]=-1\n",
    "log_regress2 = linear_model.LogisticRegression()\n",
    "log_regress2.fit(x,y2)\n",
    "# train model3\n",
    "y3=y.copy()\n",
    "y3[y==2]=1\n",
    "y3[y!=2]=-1\n",
    "log_regress3 = linear_model.LogisticRegression()\n",
    "log_regress3.fit(x,y3)\n",
    "xp1, xp2 = np.meshgrid(np.linspace(3,8,100),np.linspace(2,4,100))\n",
    "# vectorize mesh grid\n",
    "xp1_v = xp1.reshape(-1,1)\n",
    "xp2_v = xp2.reshape(-1,1)\n",
    "Xp_data = np.append(xp1_v,xp2_v,axis=1)\n",
    "# calculate model outputs\n",
    "c1=(log_regress1.intercept_+np.dot(Xp_data,log_regress1.coef_.T))/np.linalg.norm(log_regress1.coef_)\n",
    "c2=(log_regress2.intercept_+np.dot(Xp_data,log_regress2.coef_.T))/np.linalg.norm(log_regress2.coef_)\n",
    "c3=(log_regress3.intercept_+np.dot(Xp_data,log_regress3.coef_.T))/np.linalg.norm(log_regress3.coef_)\n",
    "# append and reshape to plot\n",
    "c=np.hstack((c1,c2,c3))\n",
    "print(c)\n",
    "# print(c)\n",
    "z=np.argmax(c,axis=1)\n",
    "\n",
    "z=z.reshape(xp1.shape)\n",
    "\n",
    "plt.contourf(xp1,xp2,z,alpha=.2)"
   ]
  },
  {
   "cell_type": "code",
   "execution_count": null,
   "id": "c8556d5f",
   "metadata": {},
   "outputs": [],
   "source": []
  }
 ],
 "metadata": {
  "kernelspec": {
   "display_name": "Python 3 (ipykernel)",
   "language": "python",
   "name": "python3"
  },
  "language_info": {
   "codemirror_mode": {
    "name": "ipython",
    "version": 3
   },
   "file_extension": ".py",
   "mimetype": "text/x-python",
   "name": "python",
   "nbconvert_exporter": "python",
   "pygments_lexer": "ipython3",
   "version": "3.9.12"
  }
 },
 "nbformat": 4,
 "nbformat_minor": 5
}
